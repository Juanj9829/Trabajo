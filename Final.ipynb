{
 "cells": [
  {
   "cell_type": "markdown",
   "id": "4b9b170f-acd8-4211-b0d4-086b28bc505b",
   "metadata": {},
   "source": [
    "## Nombre: Ejercicio_Final_Herramientas_Ciencia_Datos\n",
    "\n",
    "Exercise 2 - Create a markdown cell with the title of the notebook."
   ]
  },
  {
   "cell_type": "markdown",
   "id": "e6748aee-78bd-41ef-b742-8c7eea70fe8e",
   "metadata": {},
   "source": [
    "## Herramientas para las ciencia de datos y los ecosistemas de funcionalidad\n",
    "\n",
    "#### Exercise 3 - Create a markdown cell for an introduction. (1 pt)\n",
    "\n",
    "En este cuaderno, se hace un compendio de las herramientas y el ecosistema de la Ciencia de Datos.\n",
    "\n",
    "Metas:\n",
    "\n",
    "Identificar los lenguajes más utilizados por los científicos de datos.\n",
    "Mencionar las bibliotecas que son frecuentemente usadas en este campo.\n",
    "Realizar observaciones sobre las herramientas de Ciencia de Datos."
   ]
  },
  {
   "cell_type": "markdown",
   "id": "7973ad5b-e3e2-400a-9b1c-ef6dbb45b6a0",
   "metadata": {},
   "source": [
    "Los lenguajes mas utilizados actualmente son \n",
    "\n",
    "1.) Python.\n",
    "\n",
    "2.) R.\n",
    "\n",
    "3.) SQL.\n",
    "\n",
    "4.) Java.\n",
    "\n",
    "5.) Julia.\n",
    "\n",
    "6.) Scala.\n",
    "\n",
    "7.) C/C++.\n",
    "\n",
    "8.) JavaScript.\n",
    "\n",
    "#### Exercise 4 - Create a markdown cell to list data science languages. (3 pts)"
   ]
  },
  {
   "cell_type": "markdown",
   "id": "b1629954-0475-4156-a099-05560d7217fa",
   "metadata": {},
   "source": [
    "A continuación se observaran las librerias mas utilizados en el lenguaje Python\n",
    "\n",
    "1.) Pandas.\n",
    "\n",
    "2.) TensorFlow.\n",
    "\n",
    "4.) NumPy.\n",
    "\n",
    "5.) SciPy.\n",
    "\n",
    "6.) Keras.\n",
    "\n",
    "7.) Matplotlib.\n",
    "\n",
    "8.) SciKit-Learn.\n",
    "\n",
    "\n",
    "#### Exercise 5 - Create a markdown cell to list data science libraries. (3 pts)"
   ]
  },
  {
   "cell_type": "markdown",
   "id": "62091f6f-a807-4d9b-929c-06a97f0bcf97",
   "metadata": {},
   "source": [
    "| Tool              | Description                                   |\r\n",
    "|-------------------|-----------------------------------------------|\r\n",
    "| Python            | A versatile programming language for data analysis and machine learning. |\r\n",
    "| R                 | A language specifically designed for statistical analysis and data visualization. |\r\n",
    "| Jupyter Notebook   | An open-source web application for creating and sharing live code, equations, and visualizations. |\r\n",
    "| Pandas            | A Python library for data manipulation and analysis, providing data structures like DataFrames. |\r\n",
    "| NumPy             | A library for numerical computing in Python, offering support for large multi-dimensional arrays. |\r\n",
    "| Matplotlib        | A plotting library for creating static, animated, and interactive visualizations in Python. |\r\n",
    "| TensorFlow        | An open-source library for machine learning and deep learning applications. |\r\n",
    "| Scikit-learn      | A Python library for machine learning, providing simple and efficient tools for data mining and analysis. |\r\n",
    "| SQL               | A language for managing and querying relational databases. |\r\n",
    "| Tableau           | A data visualization tool that helps to create interactive and shareable dashboards. |\r\n",
    "| Power BI          | A business analytics tool that provides interactive visualizations and business intelligence capabilities. |\r\n",
    "| Apache Spark      | An open-source unified analytics engine for large-scale data processing. |\r\n",
    "\n",
    "\n",
    "#### Exercise 6 - Create a markdown cell with a table of Data Science tool"
   ]
  },
  {
   "cell_type": "code",
   "execution_count": 1,
   "id": "710ef3b1-0bae-4dcf-b275-b7fd8d9ee28a",
   "metadata": {},
   "outputs": [
    {
     "name": "stdout",
     "output_type": "stream",
     "text": [
      "Suma: 8\n",
      "Resta: 6\n",
      "Multiplicación: 42\n",
      "División: 4.0\n",
      "Potenciación: 8\n"
     ]
    }
   ],
   "source": [
    "# Suma\n",
    "resultado_suma = 5 + 3\n",
    "print(\"Suma:\", resultado_suma)  # Salida: 8\n",
    "\n",
    "# Resta\n",
    "resultado_resta = 10 - 4\n",
    "print(\"Resta:\", resultado_resta)  # Salida: 6\n",
    "\n",
    "# Multiplicación\n",
    "resultado_multiplicacion = 7 * 6\n",
    "print(\"Multiplicación:\", resultado_multiplicacion)  # Salida: 42\n",
    "\n",
    "# División\n",
    "resultado_division = 20 / 5\n",
    "print(\"División:\", resultado_division)  # Salida: 4.0\n",
    "\n",
    "# Potenciación\n",
    "resultado_potencia = 2 ** 3\n",
    "print(\"Potenciación:\", resultado_potencia)  # Salida: 8\n",
    "\n",
    "#### Exercise 7 - Create a markdown cell introducing arithmetic expression examples. (1 pt)"
   ]
  },
  {
   "cell_type": "markdown",
   "id": "253c0b44-5cdf-4b0c-b8ac-dcd5999fd325",
   "metadata": {},
   "source": [
    "#### Exercise 7 - Create a markdown cell introducing arithmetic expression examples. (1 pt)"
   ]
  },
  {
   "cell_type": "code",
   "execution_count": 2,
   "id": "8c62096e-4a96-40b0-8eec-f54da6050401",
   "metadata": {},
   "outputs": [
    {
     "name": "stdout",
     "output_type": "stream",
     "text": [
      "Resultado de la multiplicación: 15\n",
      "Resultado de la suma: 8\n"
     ]
    }
   ],
   "source": [
    "# Definimos dos números\n",
    "numero1 = 5\n",
    "numero2 = 3\n",
    "\n",
    "# Multiplicamos los números\n",
    "resultado_multiplicacion = numero1 * numero2\n",
    "\n",
    "# Sumamos los números\n",
    "resultado_suma = numero1 + numero2\n",
    "\n",
    "# Mostramos los resultados\n",
    "print(\"Resultado de la multiplicación:\", resultado_multiplicacion)  # Salida: 15\n",
    "print(\"Resultado de la suma:\", resultado_suma)          "
   ]
  },
  {
   "cell_type": "markdown",
   "id": "408fb7c5-d2c8-4493-94c5-1545e27940df",
   "metadata": {},
   "source": [
    "#### Exercise 8 - Create a code cell to multiply and add numbers. (2 pts)\n",
    "\n"
   ]
  },
  {
   "cell_type": "code",
   "execution_count": 3,
   "id": "8864b6d8-b8b5-43fa-9336-f7fd41fd7180",
   "metadata": {},
   "outputs": [
    {
     "name": "stdout",
     "output_type": "stream",
     "text": [
      "120 minutos son 2.0 horas.\n"
     ]
    }
   ],
   "source": [
    "# Definimos una función para convertir minutos a horas\n",
    "def convertir_a_horas(minutos):\n",
    "    horas = minutos / 60\n",
    "    return horas\n",
    "\n",
    "# Ejemplo de uso\n",
    "minutos = 120  # Puedes cambiar este valor para probar con otros minutos\n",
    "resultado_horas = convertir_a_horas(minutos)\n",
    "\n",
    "# Mostramos el resultado\n",
    "print(f\"{minutos} minutos son {resultado_horas} horas.\")"
   ]
  },
  {
   "cell_type": "markdown",
   "id": "bdeb4ce3-7926-46b0-adc3-4c1a819a26ff",
   "metadata": {},
   "source": [
    "#### Exercise 9 - Create a code cell to convert minutes to hours. (2 pts)"
   ]
  },
  {
   "cell_type": "markdown",
   "id": "21c353cf-a552-4dbf-b932-d705ac262b47",
   "metadata": {},
   "source": [
    "En este cuaderno, se hace un compendio de las herramientas y el ecosistema de la Ciencia de Datos.\n",
    "\n",
    "Metas:\n",
    "\n",
    "Identificar los lenguajes más utilizados por los científicos de datos. \n",
    "Mencionar las bibliotecas que son frecuentemente usadas en este campo. \n",
    "Realizar observaciones sobre las herramientas de Ciencia de Datos.\n",
    "\n",
    "#### Exercise 10 -Insert a markdown cell to list Objectives."
   ]
  },
  {
   "cell_type": "markdown",
   "id": "cb816a76-da3d-4dc3-88da-4cc08bbb67a8",
   "metadata": {},
   "source": [
    "## Author\n",
    "\n",
    " Juan José Ribero Soto\n",
    "\n",
    "\n",
    "\n",
    "Excexercise 11 - Create a markdown cell to indicate the Author’s name. (2 pts)"
   ]
  },
  {
   "cell_type": "code",
   "execution_count": null,
   "id": "754fa5ca-7d8a-47cd-b661-eb82135d2e8b",
   "metadata": {},
   "outputs": [],
   "source": []
  }
 ],
 "metadata": {
  "kernelspec": {
   "display_name": "Python 3 (ipykernel)",
   "language": "python",
   "name": "python3"
  },
  "language_info": {
   "codemirror_mode": {
    "name": "ipython",
    "version": 3
   },
   "file_extension": ".py",
   "mimetype": "text/x-python",
   "name": "python",
   "nbconvert_exporter": "python",
   "pygments_lexer": "ipython3",
   "version": "3.9.6"
  }
 },
 "nbformat": 4,
 "nbformat_minor": 5
}
